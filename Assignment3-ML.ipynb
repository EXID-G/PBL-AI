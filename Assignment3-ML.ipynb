{
 "cells": [
  {
   "cell_type": "code",
   "execution_count": 1,
   "metadata": {},
   "outputs": [],
   "source": [
    "from ClusterManager import ClusterManager\n",
    "import os\n",
    "import numpy  as np"
   ]
  },
  {
   "cell_type": "code",
   "execution_count": 2,
   "metadata": {},
   "outputs": [],
   "source": [
    "# Generating random linear data\n",
    "\n",
    "np.random.seed(12012521)\n",
    "# There will be 50 data points ranging from 0 to 50\n",
    "x = np.linspace(0, 50, 50)\n",
    "y = np.linspace(0, 50, 50)\n",
    "\n",
    "# Adding noise to the random linear data\n",
    "x += np.random.uniform(-4, 4, 50)\n",
    "y += np.random.uniform(-4, 4, 50)\n",
    "\n",
    "np.save(\"./ass3_volume/x.npy\",x)\n",
    "np.save(\"./ass3_volume/y.npy\",y)"
   ]
  },
  {
   "cell_type": "code",
   "execution_count": 3,
   "metadata": {},
   "outputs": [
    {
     "name": "stdout",
     "output_type": "stream",
     "text": [
      "Cluster Manager (name = ass3) initialized successfully.\n",
      "Containers (id = aadc60009fa4222b4c82f9d1daa89ee9476d0be04fdc0692e23f45b63866df4a) created successfully.\n",
      "\n",
      "There are 2 running containers in the cluster.\n",
      "Cluster: ass3, Container ID: aadc60009fa4222b4c82f9d1daa89ee9476d0be04fdc0692e23f45b63866df4a, Name: xenodochial_clarke, Status: running, Hostname: ass3_ML_container\n",
      "Cluster: ass3, Container ID: 2c35e7b9df1b4cc7b7956e4e2ec15ee7d7cad83268524f0b2abe9b79b737ccc1, Name: stoic_lederberg, Status: running, Hostname: ass2-container1\n"
     ]
    },
    {
     "data": {
      "text/plain": [
       "[<Container: aadc60009fa4>, <Container: 2c35e7b9df1b>]"
      ]
     },
     "execution_count": 3,
     "metadata": {},
     "output_type": "execute_result"
    }
   ],
   "source": [
    "## create a cluster manager\n",
    "ass3_CM = ClusterManager('ass3')\n",
    "\n",
    "## create containers, give the local path of the data file (as volume)\n",
    "volumes = {os.path.abspath('./ass3_volume/'): {'bind': \"/ass3_volume\", 'mode': 'rw'}}\n",
    "ass3_CM._create_container(hostname = \"ass3_ML_container\" ,volumes = volumes)\n",
    "ass3_CM.list_running_containers()"
   ]
  },
  {
   "cell_type": "code",
   "execution_count": 4,
   "metadata": {},
   "outputs": [
    {
     "name": "stdout",
     "output_type": "stream",
     "text": [
      "\n",
      "Command is being executed in container (id = aadc60009fa4222b4c82f9d1daa89ee9476d0be04fdc0692e23f45b63866df4a):\n",
      "2024-02-14 04:09:49.095197: I tensorflow/core/platform/cpu_feature_guard.cc:182] This TensorFlow binary is optimized to use available CPU instructions in performance-critical operations.\n",
      "To enable the following instructions: AVX2 FMA, in other operations, rebuild TensorFlow with the appropriate compiler flags.\n",
      "WARNING:tensorflow:From /usr/local/lib/python3.11/dist-packages/tensorflow/python/compat/v2_compat.py:108: disable_resource_variables (from tensorflow.python.ops.variable_scope) is deprecated and will be removed in a future version.\n",
      "Instructions for updating:\n",
      "non-resource variables are not supported in the long term\n",
      "2024-02-14 04:09:51.628376: I tensorflow/compiler/mlir/mlir_graph_optimization_pass.cc:388] MLIR V1 optimization pass is not enabled\n",
      "Epoch 50 : cost = 6.13343 W = 1.0761677 b = 0.487386\n",
      "Epoch 100 : cost = 6.118579 W = 1.0771093 b = 0.44304007\n",
      "Epoch 150 : cost = 6.1057954 W = 1.0779537 b = 0.40326902\n",
      "Epoch 200 : cost = 6.094764 W = 1.078711 b = 0.36760414\n",
      "Epoch 250 : cost = 6.085221 W = 1.0793902 b = 0.33562005\n",
      "Epoch 300 : cost = 6.076935 W = 1.0799991 b = 0.3069364\n",
      "Epoch 350 : cost = 6.069735 W = 1.0805453 b = 0.2812145\n",
      "Epoch 400 : cost = 6.0634494 W = 1.081035 b = 0.25814614\n",
      "Epoch 450 : cost = 6.0579667 W = 1.0814743 b = 0.23745914\n",
      "Epoch 500 : cost = 6.053164 W = 1.0818682 b = 0.21890758\n",
      "Epoch 550 : cost = 6.048951 W = 1.0822214 b = 0.20226988\n",
      "Epoch 600 : cost = 6.045252 W = 1.0825382 b = 0.18735021\n",
      "Epoch 650 : cost = 6.0419908 W = 1.0828223 b = 0.17397028\n",
      "Epoch 700 : cost = 6.0391173 W = 1.0830771 b = 0.16197126\n",
      "Epoch 750 : cost = 6.0365796 W = 1.0833056 b = 0.151211\n",
      "Epoch 800 : cost = 6.0343347 W = 1.0835104 b = 0.1415621\n",
      "Epoch 850 : cost = 6.0323477 W = 1.0836942 b = 0.13290855\n",
      "Epoch 900 : cost = 6.030587 W = 1.083859 b = 0.12514757\n",
      "Epoch 950 : cost = 6.0290227 W = 1.0840068 b = 0.118188076\n",
      "Epoch 1000 : cost = 6.0276318 W = 1.0841392 b = 0.11194685\n",
      "Training cost = 6.0276318 Weight = 1.0841392 bias = 0.11194685 \n",
      "\n",
      "\n",
      "\n",
      "Command executed successfully.\n"
     ]
    }
   ],
   "source": [
    "# ass3_CM.run_command_in_cluster(command=\"pip install matplotlib\")\n",
    "ass3_CM.run_command_in_cluster(command=\"python /ass3_volume/lreg.py\")"
   ]
  },
  {
   "cell_type": "code",
   "execution_count": 5,
   "metadata": {},
   "outputs": [
    {
     "name": "stdout",
     "output_type": "stream",
     "text": [
      "Container (id = aadc60009fa4222b4c82f9d1daa89ee9476d0be04fdc0692e23f45b63866df4a) stopped successfully.\n",
      "All containers stopped successfully.\n",
      "Container (id = aadc60009fa4222b4c82f9d1daa89ee9476d0be04fdc0692e23f45b63866df4a) deleted successfully.\n",
      "All containers deleted successfully.\n"
     ]
    }
   ],
   "source": [
    "ass3_CM.stop_all_containers()\n",
    "ass3_CM.delete_all_containers()"
   ]
  }
 ],
 "metadata": {
  "kernelspec": {
   "display_name": "base",
   "language": "python",
   "name": "python3"
  },
  "language_info": {
   "codemirror_mode": {
    "name": "ipython",
    "version": 3
   },
   "file_extension": ".py",
   "mimetype": "text/x-python",
   "name": "python",
   "nbconvert_exporter": "python",
   "pygments_lexer": "ipython3",
   "version": "3.11.5"
  }
 },
 "nbformat": 4,
 "nbformat_minor": 2
}
