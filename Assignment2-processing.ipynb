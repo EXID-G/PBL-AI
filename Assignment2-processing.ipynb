{
 "cells": [
  {
   "cell_type": "code",
   "execution_count": 7,
   "metadata": {},
   "outputs": [],
   "source": [
    "from ClusterManager import ClusterManager\n",
    "import random\n",
    "import pickle\n",
    "import os"
   ]
  },
  {
   "cell_type": "code",
   "execution_count": 8,
   "metadata": {},
   "outputs": [],
   "source": [
    "random.seed(12012521)\n",
    "data = [random.uniform(1, 100000000) for _ in range(100000)]\n",
    "\n",
    "with open('ass2_volume/ass2_data.pkl', 'wb') as f:\n",
    "    pickle.dump(data, f)"
   ]
  },
  {
   "cell_type": "code",
   "execution_count": 9,
   "metadata": {},
   "outputs": [
    {
     "name": "stdout",
     "output_type": "stream",
     "text": [
      "Cluster Manager ass2 initialized successfully.\n",
      "Containers created successfully.\n",
      "Command output for Container 0f0709bcd2747f573252756c208bcd707aec2de2ab6c8e8f5b281897a1250b24:\n",
      "Mean: 49817348.509924404\n",
      "Variance: 837975957786750.8\n",
      "Max: 99992662.8656611\n",
      "Min: 2267.0718391176883\n",
      "\n",
      "Command output for Container c39d214a47e7adea8b0f09d916798ff2aeb5786ffdd358c33af5e95b20c92184:\n",
      "Mean: 50156531.75669205\n",
      "Variance: 835738953857654.6\n",
      "Max: 99984026.07240392\n",
      "Min: 738.7842122620387\n",
      "\n",
      "Command output for Container 3507a97fa33743c27d0622a68523f312fa8ab14a9f697651d04b3e740a828da5:\n",
      "Mean: 50001848.422018975\n",
      "Variance: 829609868935616.8\n",
      "Max: 99999349.28904241\n",
      "Min: 5725.086545457764\n",
      "\n",
      "Command output for Container ccdcfe0d1e8c15518f77ac4816f254f3c215bb77de747724fbb538c72b685249:\n",
      "Mean: 49875927.556482255\n",
      "Variance: 841380215987210.0\n",
      "Max: 99996232.65892127\n",
      "Min: 673.4403050863926\n",
      "\n",
      "Container c39d214a47e7adea8b0f09d916798ff2aeb5786ffdd358c33af5e95b20c92184 stopped successfully.\n",
      "Container ccdcfe0d1e8c15518f77ac4816f254f3c215bb77de747724fbb538c72b685249 stopped successfully.\n",
      "Container 0f0709bcd2747f573252756c208bcd707aec2de2ab6c8e8f5b281897a1250b24 stopped successfully.\n",
      "Container 3507a97fa33743c27d0622a68523f312fa8ab14a9f697651d04b3e740a828da5 stopped successfully.\n",
      "Cluster stopped successfully.\n",
      "Container c39d214a47e7adea8b0f09d916798ff2aeb5786ffdd358c33af5e95b20c92184 deleted successfully.\n",
      "Container ccdcfe0d1e8c15518f77ac4816f254f3c215bb77de747724fbb538c72b685249 deleted successfully.\n",
      "Container 0f0709bcd2747f573252756c208bcd707aec2de2ab6c8e8f5b281897a1250b24 deleted successfully.\n",
      "Container 3507a97fa33743c27d0622a68523f312fa8ab14a9f697651d04b3e740a828da5 deleted successfully.\n",
      "All containers deleted successfully.\n"
     ]
    }
   ],
   "source": [
    "## create a cluster manager\n",
    "ass2_CM = ClusterManager('ass2')\n",
    "\n",
    "## create containers, give the local path of the data file (as volume)\n",
    "volumes = {os.path.abspath('./ass2_volume/'): {'bind': \"/ass2_volume\", 'mode': 'rw'}}\n",
    "ass2_CM.create_containers(num_containers=4, volumes = volumes)\n",
    "\n",
    "ass2_CM.distribute_and_process_data_parallel(parallel_num=4,volume_data_path=\"ass2_volume/ass2_data.pkl\",process_file_path=\"ass2_volume/ass2_process_data.py\")\n",
    "ass2_CM.stop_all_containers()\n",
    "ass2_CM.delete_all_containers()"
   ]
  }
 ],
 "metadata": {
  "kernelspec": {
   "display_name": "base",
   "language": "python",
   "name": "python3"
  },
  "language_info": {
   "codemirror_mode": {
    "name": "ipython",
    "version": 3
   },
   "file_extension": ".py",
   "mimetype": "text/x-python",
   "name": "python",
   "nbconvert_exporter": "python",
   "pygments_lexer": "ipython3",
   "version": "3.11.5"
  }
 },
 "nbformat": 4,
 "nbformat_minor": 2
}
