{
 "cells": [
  {
   "cell_type": "code",
   "execution_count": 1,
   "metadata": {},
   "outputs": [],
   "source": [
    "from ClusterManager import ClusterManager\n",
    "import random\n",
    "import pickle\n",
    "import os"
   ]
  },
  {
   "cell_type": "code",
   "execution_count": 2,
   "metadata": {},
   "outputs": [],
   "source": [
    "random.seed(12012521)\n",
    "data = [random.uniform(1, 100000000) for _ in range(100000)]\n",
    "\n",
    "with open('ass2_volume/ass2_data.pkl', 'wb') as f:\n",
    "    pickle.dump(data, f)"
   ]
  },
  {
   "cell_type": "code",
   "execution_count": 3,
   "metadata": {},
   "outputs": [
    {
     "name": "stdout",
     "output_type": "stream",
     "text": [
      "Cluster Manager (name = ass2) initialized successfully.\n",
      "Containers (id = 2c35e7b9df1b4cc7b7956e4e2ec15ee7d7cad83268524f0b2abe9b79b737ccc1) created successfully.\n",
      "Containers (id = c562676e8249748321806e351715567994572c4eb7f7209210d2eab078c1df3e) created successfully.\n",
      "Containers (id = 993b983468693d285388218a8805a216d611a131390fb67d9888694ff40d6eb9) created successfully.\n",
      "Containers (id = 198ecb0d94405ed6d73a4b59ae92d40ba3a22eb7a92f4228ff6ba21f9b5326f7) created successfully.\n",
      "4 containers created successfully.\n",
      "\n",
      "There are 5 running containers in the cluster.\n",
      "Cluster: ass2, Container ID: 198ecb0d94405ed6d73a4b59ae92d40ba3a22eb7a92f4228ff6ba21f9b5326f7, Name: vibrant_bell, Status: running, Hostname: ass2-container4\n",
      "Cluster: ass2, Container ID: 993b983468693d285388218a8805a216d611a131390fb67d9888694ff40d6eb9, Name: relaxed_banzai, Status: running, Hostname: ass2-container3\n",
      "Cluster: ass2, Container ID: c562676e8249748321806e351715567994572c4eb7f7209210d2eab078c1df3e, Name: heuristic_wiles, Status: running, Hostname: ass2-container2\n",
      "Cluster: ass2, Container ID: aadc60009fa4222b4c82f9d1daa89ee9476d0be04fdc0692e23f45b63866df4a, Name: xenodochial_clarke, Status: running, Hostname: ass3_ML_container\n",
      "Cluster: ass2, Container ID: 2c35e7b9df1b4cc7b7956e4e2ec15ee7d7cad83268524f0b2abe9b79b737ccc1, Name: stoic_lederberg, Status: running, Hostname: ass2-container1\n"
     ]
    },
    {
     "data": {
      "text/plain": [
       "[<Container: 198ecb0d9440>,\n",
       " <Container: 993b98346869>,\n",
       " <Container: c562676e8249>,\n",
       " <Container: aadc60009fa4>,\n",
       " <Container: 2c35e7b9df1b>]"
      ]
     },
     "execution_count": 3,
     "metadata": {},
     "output_type": "execute_result"
    }
   ],
   "source": [
    "## create a cluster manager\n",
    "ass2_CM = ClusterManager('ass2')\n",
    "\n",
    "## create containers, give the local path of the data file (as volume)\n",
    "volumes = {os.path.abspath('./ass2_volume/'): {'bind': \"/ass2_volume\", 'mode': 'rw'}}\n",
    "ass2_CM.create_containers(num_containers=4, volumes = volumes)\n",
    "ass2_CM.list_running_containers()"
   ]
  },
  {
   "cell_type": "code",
   "execution_count": 4,
   "metadata": {},
   "outputs": [
    {
     "name": "stdout",
     "output_type": "stream",
     "text": [
      "\n",
      "Command is being executed in container (id = c562676e8249748321806e351715567994572c4eb7f7209210d2eab078c1df3e):\n",
      "Command is being executed in container (id = 2c35e7b9df1b4cc7b7956e4e2ec15ee7d7cad83268524f0b2abe9b79b737ccc1):\n",
      "\n",
      "\n",
      "Command is being executed in container (id = 993b983468693d285388218a8805a216d611a131390fb67d9888694ff40d6eb9):\n",
      "\n",
      "Command is being executed in container (id = 198ecb0d94405ed6d73a4b59ae92d40ba3a22eb7a92f4228ff6ba21f9b5326f7):\n",
      "Mean: 49875927.556482255\n",
      "Variance: 841380215987210.0\n",
      "Max: 99996232.65892127\n",
      "Min: 673.4403050863926\n",
      "\n",
      "\n",
      "Command executed successfully.\n",
      "Mean: 50156531.75669205\n",
      "Variance: 835738953857654.6\n",
      "Max: 99984026.07240392\n",
      "Min: 738.7842122620387\n",
      "\n",
      "\n",
      "Command executed successfully.\n",
      "Mean: 50001848.422018975\n",
      "Variance: 829609868935616.8\n",
      "Max: 99999349.28904241\n",
      "Min: 5725.086545457764\n",
      "\n",
      "\n",
      "Command executed successfully.\n",
      "Mean: 49817348.509924404\n",
      "Variance: 837975957786750.8\n",
      "Max: 99992662.8656611\n",
      "Min: 2267.0718391176883\n",
      "\n",
      "\n",
      "Command executed successfully.\n"
     ]
    }
   ],
   "source": [
    "ass2_CM.distribute_and_process_data_parallel(parallel_num=4,volume_data_path=\"ass2_volume/ass2_data.pkl\",process_file_path=\"ass2_volume/ass2_process_data.py\")"
   ]
  },
  {
   "cell_type": "code",
   "execution_count": 5,
   "metadata": {},
   "outputs": [
    {
     "name": "stdout",
     "output_type": "stream",
     "text": [
      "Container (id = 2c35e7b9df1b4cc7b7956e4e2ec15ee7d7cad83268524f0b2abe9b79b737ccc1) stopped successfully.\n",
      "Container (id = c562676e8249748321806e351715567994572c4eb7f7209210d2eab078c1df3e) stopped successfully.\n",
      "Container (id = 993b983468693d285388218a8805a216d611a131390fb67d9888694ff40d6eb9) stopped successfully.\n",
      "Container (id = 198ecb0d94405ed6d73a4b59ae92d40ba3a22eb7a92f4228ff6ba21f9b5326f7) stopped successfully.\n",
      "All containers stopped successfully.\n",
      "Container (id = 2c35e7b9df1b4cc7b7956e4e2ec15ee7d7cad83268524f0b2abe9b79b737ccc1) deleted successfully.\n",
      "Container (id = c562676e8249748321806e351715567994572c4eb7f7209210d2eab078c1df3e) deleted successfully.\n",
      "Container (id = 993b983468693d285388218a8805a216d611a131390fb67d9888694ff40d6eb9) deleted successfully.\n",
      "Container (id = 198ecb0d94405ed6d73a4b59ae92d40ba3a22eb7a92f4228ff6ba21f9b5326f7) deleted successfully.\n",
      "All containers deleted successfully.\n"
     ]
    }
   ],
   "source": [
    "ass2_CM.stop_all_containers()\n",
    "ass2_CM.delete_all_containers()"
   ]
  }
 ],
 "metadata": {
  "kernelspec": {
   "display_name": "base",
   "language": "python",
   "name": "python3"
  },
  "language_info": {
   "codemirror_mode": {
    "name": "ipython",
    "version": 3
   },
   "file_extension": ".py",
   "mimetype": "text/x-python",
   "name": "python",
   "nbconvert_exporter": "python",
   "pygments_lexer": "ipython3",
   "version": "3.11.5"
  }
 },
 "nbformat": 4,
 "nbformat_minor": 2
}
