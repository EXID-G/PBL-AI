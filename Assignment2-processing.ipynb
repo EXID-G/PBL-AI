{
 "cells": [
  {
   "cell_type": "code",
   "execution_count": 4,
   "metadata": {},
   "outputs": [],
   "source": [
    "from ClusterManager import ClusterManager\n",
    "import random\n",
    "import pickle\n",
    "import os"
   ]
  },
  {
   "cell_type": "code",
   "execution_count": 5,
   "metadata": {},
   "outputs": [],
   "source": [
    "random.seed(12012521)\n",
    "data = [random.uniform(1, 100000000) for _ in range(100000)]\n",
    "\n",
    "with open('ass2_volume/ass2_data.pkl', 'wb') as f:\n",
    "    pickle.dump(data, f)"
   ]
  },
  {
   "cell_type": "code",
   "execution_count": 6,
   "metadata": {},
   "outputs": [
    {
     "name": "stdout",
     "output_type": "stream",
     "text": [
      "Cluster Manager ass2 initialized successfully.\n",
      "Containers created successfully.\n",
      "Command output for Container 3add58b35298ffb0d3a5aa60d5b55ea240baa0715d19c7feac11c5524815a171:\n",
      "Mean: 49817348.509924404\n",
      "Variance: 837975957786750.8\n",
      "Max: 99992662.8656611\n",
      "Min: 2267.0718391176883\n",
      "\n",
      "Command output for Container 005ca54b7974d969f01134ca634221057a6245c0fe98cc46da3d34b48f584071:\n",
      "Mean: 50156531.75669205\n",
      "Variance: 835738953857654.6\n",
      "Max: 99984026.07240392\n",
      "Min: 738.7842122620387\n",
      "\n",
      "Command output for Container b7635893cfa90b40d1967566d615cb9d9fd83e3776b621be15857ea3c8c94853:\n",
      "Mean: 49875927.556482255\n",
      "Variance: 841380215987210.0\n",
      "Max: 99996232.65892127\n",
      "Min: 673.4403050863926\n",
      "\n",
      "Command output for Container 8e454056a05092efd98135536f7934098df33e0869b2cb70dc6b9bfcc387e8ec:\n",
      "Mean: 50001848.422018975\n",
      "Variance: 829609868935616.8\n",
      "Max: 99999349.28904241\n",
      "Min: 5725.086545457764\n",
      "\n",
      "Container 005ca54b7974d969f01134ca634221057a6245c0fe98cc46da3d34b48f584071 stopped successfully.\n",
      "Container b7635893cfa90b40d1967566d615cb9d9fd83e3776b621be15857ea3c8c94853 stopped successfully.\n",
      "Container 3add58b35298ffb0d3a5aa60d5b55ea240baa0715d19c7feac11c5524815a171 stopped successfully.\n",
      "Container 8e454056a05092efd98135536f7934098df33e0869b2cb70dc6b9bfcc387e8ec stopped successfully.\n",
      "Cluster stopped successfully.\n",
      "Container 005ca54b7974d969f01134ca634221057a6245c0fe98cc46da3d34b48f584071 deleted successfully.\n",
      "Container b7635893cfa90b40d1967566d615cb9d9fd83e3776b621be15857ea3c8c94853 deleted successfully.\n",
      "Container 3add58b35298ffb0d3a5aa60d5b55ea240baa0715d19c7feac11c5524815a171 deleted successfully.\n",
      "Container 8e454056a05092efd98135536f7934098df33e0869b2cb70dc6b9bfcc387e8ec deleted successfully.\n",
      "All containers deleted successfully.\n"
     ]
    }
   ],
   "source": [
    "## create a cluster manager\n",
    "ass2_CM = ClusterManager('ass2')\n",
    "\n",
    "## create containers, give the local path of the data file (as volume)\n",
    "volumes = {os.path.abspath('./ass2_volume/'): {'bind': \"/ass2_volume\", 'mode': 'rw'}}\n",
    "ass2_CM.create_containers(num_containers=4, volumes = volumes)\n",
    "\n",
    "ass2_CM.distribute_and_process_data_parallel(parallel_num=4,volume_data_path=\"ass2_volume/ass2_data.pkl\",process_file_path=\"ass2_volume/ass2_process_data.py\")\n",
    "ass2_CM.stop_all_containers()\n",
    "ass2_CM.delete_all_containers()"
   ]
  }
 ],
 "metadata": {
  "kernelspec": {
   "display_name": "base",
   "language": "python",
   "name": "python3"
  },
  "language_info": {
   "codemirror_mode": {
    "name": "ipython",
    "version": 3
   },
   "file_extension": ".py",
   "mimetype": "text/x-python",
   "name": "python",
   "nbconvert_exporter": "python",
   "pygments_lexer": "ipython3",
   "version": "3.11.5"
  }
 },
 "nbformat": 4,
 "nbformat_minor": 2
}
